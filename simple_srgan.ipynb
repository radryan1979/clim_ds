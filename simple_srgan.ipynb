{
 "cells": [
  {
   "cell_type": "code",
   "execution_count": 29,
   "metadata": {},
   "outputs": [
    {
     "name": "stderr",
     "output_type": "stream",
     "text": [
      "/var/folders/hg/by60chbx3gv__xtd5c1p9sxm0000gn/T/ipykernel_65645/2146603971.py:21: DeprecationWarning: Please import `gaussian_filter` from the `scipy.ndimage` namespace; the `scipy.ndimage.filters` namespace is deprecated and will be removed in SciPy 2.0.0.\n",
      "  from scipy.ndimage.filters import gaussian_filter\n"
     ]
    }
   ],
   "source": [
    "import torch\n",
    "import torch.nn as nn\n",
    "import torch.optim as optim\n",
    "import torch.utils.data as data\n",
    "from torch.utils.data import DataLoader, sampler, TensorDataset\n",
    "from torch.utils.data import sampler\n",
    "\n",
    "import torch.nn.functional as F\n",
    "\n",
    "import torchvision.datasets as dset\n",
    "import torchvision.transforms as T\n",
    "\n",
    "import matplotlib.pyplot as plt\n",
    "\n",
    "import math\n",
    "import numpy as np\n",
    "from PIL import Image\n",
    "\n",
    "from scipy.interpolate import interp2d\n",
    "from scipy.interpolate import RectBivariateSpline\n",
    "from scipy.ndimage.filters import gaussian_filter\n",
    "\n",
    "from pathlib import Path\n",
    "\n",
    "from time import time\n",
    "\n",
    "import models as models\n",
    "\n",
    "from torch.autograd import Variable\n",
    "from tqdm import tqdm\n",
    "\n",
    "import os\n",
    "\n",
    "# import warnings\n",
    "# warnings.filterwarnings('ignore')"
   ]
  },
  {
   "cell_type": "code",
   "execution_count": 2,
   "metadata": {},
   "outputs": [
    {
     "name": "stdout",
     "output_type": "stream",
     "text": [
      "using device: cpu\n"
     ]
    }
   ],
   "source": [
    "USE_GPU = False\n",
    "\n",
    "dtype = torch.float32 # we will be using float throughout this tutorial\n",
    "\n",
    "if USE_GPU and torch.cuda.is_available():\n",
    "    device = torch.device('cuda')\n",
    "else:\n",
    "    device = torch.device('cpu')\n",
    "\n",
    "# Constant to control how frequently we print train loss\n",
    "print_every = 1\n",
    "\n",
    "print('using device:', device)"
   ]
  },
  {
   "cell_type": "code",
   "execution_count": 3,
   "metadata": {},
   "outputs": [],
   "source": [
    "train_directory = '/Volumes/DataDrive/clim_tif/train'\n",
    "test_directory = '/Volumes/DataDrive/clim_tif/test'\n",
    "val_directory = '/Volumes/DataDrive/clim_tif/val'\n",
    "\n",
    "##########################################################################################\n",
    "#                                  BATCH_SIZE PARAMETER\n",
    "BATCH_SIZE = 1\n",
    "##########################################################################################\n",
    "\n",
    "\n",
    "sr_train = models.SR_Dataset(train_directory)\n",
    "loader_train = DataLoader(sr_train, batch_size=BATCH_SIZE)\n",
    "\n",
    "\n",
    "sr_val = models.SR_Dataset(val_directory)\n",
    "loader_val = DataLoader(sr_val, batch_size=BATCH_SIZE)\n",
    "\n",
    "sr_test = models.SR_Dataset(test_directory)\n",
    "loader_test = DataLoader(sr_test, batch_size=BATCH_SIZE)"
   ]
  },
  {
   "cell_type": "code",
   "execution_count": 4,
   "metadata": {},
   "outputs": [
    {
     "name": "stdout",
     "output_type": "stream",
     "text": [
      "x shape:  torch.Size([1, 64, 64])\n",
      "y shape:  torch.Size([1, 64, 64])\n",
      "x min:  tensor(232.9816)\n",
      "x max:  tensor(301.7243)\n",
      "y min:  tensor(231.2948)\n",
      "y max:  tensor(303.2948)\n",
      "torch.Size([1, 1, 64, 64])\n"
     ]
    }
   ],
   "source": [
    "# Check to make sure the range on the input and output images is correct, and they're the correct shape\n",
    "testx, testy = sr_train.__getitem__(3)\n",
    "print(\"x shape: \", testx.shape)\n",
    "print(\"y shape: \", testy.shape)\n",
    "print(\"x min: \", torch.min(testx))\n",
    "print(\"x max: \", torch.max(testx))\n",
    "print(\"y min: \", torch.min(testy))\n",
    "print(\"y max: \",torch.max(testy))\n",
    "\n",
    "for x, y in loader_train:\n",
    "    print(x.shape)\n",
    "    break"
   ]
  },
  {
   "cell_type": "code",
   "execution_count": 5,
   "metadata": {},
   "outputs": [],
   "source": [
    "dmodel = models.Discriminator()"
   ]
  },
  {
   "cell_type": "code",
   "execution_count": 7,
   "metadata": {},
   "outputs": [],
   "source": [
    "out_img = dmodel(testy)"
   ]
  },
  {
   "cell_type": "code",
   "execution_count": 8,
   "metadata": {},
   "outputs": [
    {
     "data": {
      "text/plain": [
       "torch.Size([1, 1])"
      ]
     },
     "execution_count": 8,
     "metadata": {},
     "output_type": "execute_result"
    }
   ],
   "source": [
    "out_img.shape"
   ]
  },
  {
   "cell_type": "code",
   "execution_count": 9,
   "metadata": {},
   "outputs": [],
   "source": [
    "rmodel = models.ResidualBlock(1)"
   ]
  },
  {
   "cell_type": "code",
   "execution_count": 10,
   "metadata": {},
   "outputs": [],
   "source": [
    "out_img = rmodel(testx)"
   ]
  },
  {
   "cell_type": "code",
   "execution_count": 11,
   "metadata": {},
   "outputs": [
    {
     "data": {
      "text/plain": [
       "torch.Size([64, 64, 64])"
      ]
     },
     "execution_count": 11,
     "metadata": {},
     "output_type": "execute_result"
    }
   ],
   "source": [
    "out_img.shape"
   ]
  },
  {
   "cell_type": "code",
   "execution_count": 12,
   "metadata": {},
   "outputs": [],
   "source": [
    "umodel = models.UpscaleBlock()"
   ]
  },
  {
   "cell_type": "code",
   "execution_count": 13,
   "metadata": {},
   "outputs": [],
   "source": [
    "uout_img = umodel(out_img)"
   ]
  },
  {
   "cell_type": "code",
   "execution_count": 14,
   "metadata": {},
   "outputs": [
    {
     "data": {
      "text/plain": [
       "torch.Size([64, 128, 128])"
      ]
     },
     "execution_count": 14,
     "metadata": {},
     "output_type": "execute_result"
    }
   ],
   "source": [
    "uout_img.shape"
   ]
  },
  {
   "cell_type": "code",
   "execution_count": 15,
   "metadata": {},
   "outputs": [],
   "source": [
    "gmodel = models.Generator(1)"
   ]
  },
  {
   "cell_type": "code",
   "execution_count": 16,
   "metadata": {},
   "outputs": [],
   "source": [
    "gout_img = gmodel(testx.unsqueeze(0))"
   ]
  },
  {
   "cell_type": "code",
   "execution_count": 17,
   "metadata": {},
   "outputs": [
    {
     "data": {
      "text/plain": [
       "torch.Size([1, 1, 64, 64])"
      ]
     },
     "execution_count": 17,
     "metadata": {},
     "output_type": "execute_result"
    }
   ],
   "source": [
    "gout_img.shape"
   ]
  },
  {
   "cell_type": "code",
   "execution_count": 18,
   "metadata": {},
   "outputs": [],
   "source": [
    "UPSCALE_FACTOR = 2\n",
    "NUM_EPOCHS = 1"
   ]
  },
  {
   "cell_type": "code",
   "execution_count": 19,
   "metadata": {},
   "outputs": [],
   "source": [
    "def test_Generator():\n",
    "    h = 32\n",
    "    w = h\n",
    "#     x = torch.zeros((1, NUM_CHANNELS_IN, h, w), dtype=dtype) \n",
    "    x = (sr_train.__getitem__(5)[0])\n",
    "    print(x.shape)\n",
    "    \n",
    "    model = models.Generator(1, scale_factor=2)\n",
    "    model = model.to(device=device)\n",
    "    x = x.to(device=device, dtype=dtype)\n",
    "    output = model(x)\n",
    "    \n",
    "    print(output.shape)\n",
    "    \n",
    "    print(np.amin(output[0,:,:].detach().numpy()))\n",
    "    print(np.amax(output[0,:,:].detach().numpy()))\n",
    "    print(np.mean(output[0,:,:].detach().numpy()))\n",
    "    plt.subplot(121)\n",
    "    plt.imshow(x.cpu().detach().numpy()[0,:, :])\n",
    "    plt.title(\"Input Precip\")\n",
    "    plt.subplot(122)\n",
    "    plt.imshow(output.cpu().detach().numpy()[0,:, :])\n",
    "    plt.title(\"Output Precip\")\n",
    "    plt.figure()\n",
    "    plt.subplot(121)\n",
    "    plt.imshow(x.cpu().detach().numpy()[0,:, :])\n",
    "    plt.title(\"Input Temperature\")\n",
    "    plt.subplot(122)\n",
    "    plt.imshow(output.cpu().detach().numpy()[0,:, :])\n",
    "    plt.title(\"Output Temperature\")\n",
    "    plt.show()"
   ]
  },
  {
   "cell_type": "code",
   "execution_count": 27,
   "metadata": {},
   "outputs": [
    {
     "name": "stdout",
     "output_type": "stream",
     "text": [
      "torch.Size([1, 64, 64])\n",
      "torch.Size([1, 64, 64])\n",
      "-1.0\n",
      "-0.9999999\n",
      "-1.0\n"
     ]
    },
    {
     "data": {
      "image/png": "[encoded data removed]",
      "text/plain": [
       "<Figure size 640x480 with 2 Axes>"
      ]
     },
     "metadata": {},
     "output_type": "display_data"
    },
    {
     "data": {
      "image/png": "[encoded data removed]",
      "text/plain": [
       "<Figure size 640x480 with 2 Axes>"
      ]
     },
     "metadata": {},
     "output_type": "display_data"
    }
   ],
   "source": [
    "test_Generator()"
   ]
  },
  {
   "cell_type": "code",
   "execution_count": 28,
   "metadata": {},
   "outputs": [
    {
     "name": "stdout",
     "output_type": "stream",
     "text": [
      "# generator parameters: 232005\n",
      "# discriminator parameters: 5210561\n"
     ]
    }
   ],
   "source": [
    "netG = models.Generator(1,UPSCALE_FACTOR)\n",
    "print('# generator parameters:', sum(param.numel() for param in netG.parameters()))\n",
    "netD = models.Discriminator()\n",
    "print('# discriminator parameters:', sum(param.numel() for param in netD.parameters()))\n",
    "\n",
    "optimizerG = optim.Adam(netG.parameters())\n",
    "optimizerD = optim.Adam(netD.parameters())\n",
    "\n",
    "mseLoss = nn.MSELoss()"
   ]
  },
  {
   "cell_type": "code",
   "execution_count": null,
   "metadata": {},
   "outputs": [],
   "source": [
    "torch.autograd.set_detect_anomaly(True)\n",
    "\n",
    "results = {'d_loss': [], 'g_loss': [], 'd_score': [], 'g_score': [], 'psnr': [], 'ssim': []}\n",
    "\n",
    "for epoch in range(1, NUM_EPOCHS + 1):\n",
    "    train_bar = tqdm(loader_train)\n",
    "    running_results = {'batch_sizes': 0, 'd_loss': 0, 'g_loss': 0, 'd_score': 0, 'g_score': 0}\n",
    "\n",
    "    netG.train()\n",
    "    netD.train()\n",
    "    for data, target in train_bar:\n",
    "        g_update_first = True\n",
    "        batch_size = data.size(0)\n",
    "        running_results['batch_sizes'] += batch_size\n",
    "\n",
    "        ##################################  \n",
    "        # (1) Update D nework \n",
    "        # we want real_out to be close 1, and fake_out to be close 0 \n",
    "        # maximize D(x) - D(G(z)) + [1] x: real_out D(G(z)): fake_out \n",
    "        ##################################\n",
    "        real_img = Variable(target)\n",
    "        #print(f\"Real Image Shape: {real_img.shape}\")\n",
    "        z = Variable(data)\n",
    "        #print(f\"z Variable Shape: {z.shape}\")\n",
    "        fake_img = netG(z)\n",
    "        #print(f\"Fake Image Shape: {fake_img.shape}\")\n",
    "\n",
    "        netD.zero_grad()\n",
    "        real_out = netD(real_img).mean()\n",
    "        fake_out = netD(fake_img).mean()\n",
    "        d_loss = 1 - real_out + fake_out\n",
    "        d_loss.backward(retain_graph=True)\n",
    "\n",
    "\n",
    "        ###################################\n",
    "        # (2) Update G network: minimize 1-D(G(z)) + Perception Loss + Image Loss + TV Loss\n",
    "        ###################################\n",
    "        netG.zero_grad()\n",
    "        g_loss = mseLoss(fake_out, real_img)\n",
    "        g_loss.backward()\n",
    "\n",
    "        optimizerD.step()\n",
    "        optimizerG.step()\n",
    "\n",
    "        # loss for current batch before optimization \n",
    "        running_results['g_loss'] += g_loss.item() * batch_size\n",
    "        running_results['d_loss'] += d_loss.item() * batch_size\n",
    "        running_results['d_score'] += real_out.item() * batch_size\n",
    "        running_results['g_score'] += fake_out.item() * batch_size\n",
    "\n",
    "        train_bar.set_description(desc='[%d/%d] Loss_D: %.4f Loss_G: %.4f D(x): %.4f D(G(z)): %.4f' % (\n",
    "            epoch, NUM_EPOCHS, running_results['d_loss'] / running_results['batch_sizes'], \n",
    "            running_results['g_loss'] / running_results['batch_sizes'], \n",
    "            running_results['d_score'] / running_results['batch_sizes'], \n",
    "            running_results['g_score'] / running_results['batch_sizes']\n",
    "        ))\n",
    "\n",
    "    netG.eval()\n",
    "    "
   ]
  },
  {
   "cell_type": "code",
   "execution_count": null,
   "metadata": {},
   "outputs": [],
   "source": [
    "base_folder = 'Volumes/DataDrive/clim_model_runs'\n",
    "run_number = 1"
   ]
  },
  {
   "cell_type": "code",
   "execution_count": null,
   "metadata": {},
   "outputs": [],
   "source": [
    "sub_path = 'training_results/SRF_' + str(run_number) + '/'\n",
    "out_path = os.path.joint(base_folder, sub_path)\n",
    "print(out_path)\n",
    "\n",
    "if not os.path.exists(out_path):\n",
    "    os.makedirs(out_path)\n",
    "\n",
    "with torch.no_grad():\n",
    "    val_bar = tqdm(loader_val)\n",
    "    valing_results = {'mse': 0, 'ssims': 0, 'psnr': 0, 'ssim': 0, 'batch_sizes': 0}\n",
    "    val_images = []\n",
    "    for val_lr, val_hr_restore, val_hr in val_bar:\n",
    "        batch_size = val_lr.size(0)\n",
    "        valing_results['batch_sizes'] += batch_size\n",
    "        lr = val_lr\n",
    "        hr = val_hr\n",
    "        if torch.cuda.is_available():\n",
    "            lr = lr.cuda()\n",
    "            hr = hr.cuda()\n",
    "        sr = netG(lr)\n",
    "\n",
    "        batch_mse = ((sr - hr) ** 2).data.mean()\n",
    "        valing_results['mse'] += batch_mse * batch_size\n",
    "        batch_ssim = pytorch_ssim.ssim(sr, hr).item()\n",
    "        valing_results['ssims'] += batch_ssim * batch_size\n",
    "        valing_results['psnr'] = 10 * np.log10((hr.max()**2) / (valing_results['mse'] / valing_results['batch_sizes']))\n",
    "        valing_results['ssim'] = valing_results['ssims'] / valing_results['batch_sizes']\n",
    "        val_bar.set_description(\n",
    "            desc='[converting LR images to SR images] PSNR: %.4f dB SSIM: %.4f' % (\n",
    "                valing_results['psnr'], valing_results['ssim']\n",
    "            )\n",
    "        )\n",
    "\n",
    "        val_images.extend(\n",
    "            [display_transform()(val_hr_restore.squeeze(0)), display_transform()(hr.data.cpu().squeeze(0)), \n",
    "                display_transform()(sr.data.cpu().squeeze(0))]\n",
    "        )\n",
    "    val_images = torch.stack(val_images)\n",
    "    val_images = torch.chunk(val_images, val_images.size(0) // 15)\n",
    "    val_save_bar = tqdm(val_images, desc='[saving training results]')\n",
    "    index = 1\n",
    "    for image in val_save_bar:\n",
    "        image = utils.make_grid(image, nrow=3, padding=5)\n",
    "        utils.save_image(image, out_path + 'epoch_%d_index_%d.png' % (epoch, index), padding=5)\n",
    "        index += 1\n",
    "\n",
    "# save model parameters\n",
    "torch.save(netG.state_dict(), 'epochs/netG_epoch_%d_%d.pth' % (UPSCALE_FACTOR, epoch))\n",
    "torch.save(netD.state_dict(), 'epochs/netD_epoch_%d_%d.pth' % (UPSCALE_FACTOR, epoch))\n",
    "# save loss\\scores\\psnr\\ssim\n",
    "results['d_loss'].append(running_results['d_loss'] / running_results['batch_sizes'])\n",
    "results['g_loss'].append(running_results['g_loss'] / running_results['batch_sizes'])\n",
    "results['d_score'].append(running_results['d_score'] / running_results['batch_sizes'])\n",
    "results['g_score'].append(running_results['g_score'] / running_results['batch_sizes'])\n",
    "results['psnr'].append(valing_results['psnr'])\n",
    "results['ssim'].append(valing_results['ssim'])\n",
    "\n",
    "if epoch % 10 == 0 and epoch != 0:\n",
    "    out_path = \"statistics/\"\n",
    "    data_frame = pd.DataFrame(\n",
    "        data = {'Loss_D': results['d_loss'], 'Loss_G': results['g_loss'], 'Score_D': results['d_score'], \n",
    "                'Score_G': results['g_score'], 'PSNR': results['psnr'], 'SSIM': results['ssim'], }, \n",
    "                index=range(1, epoch+1)\n",
    "    )\n",
    "    data_frame.to_csv(out_path + 'srf_' + str(UPSCALE_FACTOR) + '_train_results.csv', index_label='Epoch')"
   ]
  }
 ],
 "metadata": {
  "kernelspec": {
   "display_name": "ML",
   "language": "python",
   "name": "python3"
  },
  "language_info": {
   "codemirror_mode": {
    "name": "ipython",
    "version": 3
   },
   "file_extension": ".py",
   "mimetype": "text/x-python",
   "name": "python",
   "nbconvert_exporter": "python",
   "pygments_lexer": "ipython3",
   "version": "3.11.3"
  }
 },
 "nbformat": 4,
 "nbformat_minor": 2
}
